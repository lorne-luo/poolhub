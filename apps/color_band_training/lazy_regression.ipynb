{
 "cells": [
  {
   "cell_type": "code",
   "execution_count": null,
   "metadata": {
    "collapsed": true
   },
   "outputs": [],
   "source": [
    "import sys\n",
    "import os\n",
    "from sklearn.linear_model import LinearRegression\n",
    "from sklearn.ensemble import RandomForestRegressor, GradientBoostingRegressor\n",
    "from sklearn.svm import SVR\n",
    "from sklearn.neighbors import KNeighborsRegressor\n",
    "from sklearn.preprocessing import MinMaxScaler\n",
    "from sklearn.model_selection import train_test_split\n",
    "from sklearn import datasets\n",
    "from sklearn.metrics import mean_absolute_error\n",
    "from IPython.display import clear_output\n",
    "\n",
    "from sklearn.utils.deprecation import _raise_dep_warning_if_not_pytest\n",
    "from lazypredict.Supervised import LazyRegressor\n",
    "import tensorflow as tf\n",
    "import numpy as np\n",
    "import pandas as pd\n",
    "from collections import Counter\n",
    "\n",
    "csv_base_path='/Users/lorneluo/lorne/poolhub/dataset/train'"
   ]
  },
  {
   "cell_type": "markdown",
   "source": [
    "## Quick training\n"
   ],
   "metadata": {
    "collapsed": false,
    "pycharm": {
     "name": "#%% md\n"
    }
   }
  },
  {
   "cell_type": "code",
   "execution_count": 27,
   "outputs": [],
   "source": [
    "def fit_and_evaluate(csv_filename):\n",
    "    X=np.loadtxt(csv_filename, delimiter=',', skiprows=1,usecols = (6,7,8))\n",
    "    y=np.loadtxt(csv_filename, delimiter=',', skiprows=1,usecols = (5,))\n",
    "    X_train, X_test, y_train, y_test = train_test_split(X, y, test_size=.2)\n",
    "    reg = LazyRegressor(predictions=True,custom_metric=mean_absolute_error)\n",
    "    models, predictions = reg.fit(X_train, X_test, y_train, y_test)\n",
    "    return models\n",
    "\n",
    "def evaluate_models(csv_path,count=100):\n",
    "    best_models=[]\n",
    "    best_rmse=[]\n",
    "\n",
    "    for i in range(count):\n",
    "        models=fit_and_evaluate(csv_path)\n",
    "        for j in range(len(models['RMSE'])):\n",
    "            if models['RMSE'].iloc[j] == models['RMSE'].iloc[0]:\n",
    "                best_model,rmse=models['RMSE'].index[0],models['RMSE'].iloc[0]\n",
    "                best_models.append(best_model)\n",
    "                best_rmse.append(rmse)\n",
    "\n",
    "    clear_output()\n",
    "    return Counter(best_models),best_rmse"
   ],
   "metadata": {
    "collapsed": false,
    "pycharm": {
     "name": "#%%\n"
    }
   }
  },
  {
   "cell_type": "markdown",
   "source": [
    "## Single Training\n"
   ],
   "metadata": {
    "collapsed": false,
    "pycharm": {
     "name": "#%% md\n"
    }
   }
  },
  {
   "cell_type": "code",
   "execution_count": 26,
   "outputs": [
    {
     "name": "stderr",
     "output_type": "stream",
     "text": [
      "100%|██████████| 42/42 [00:00<00:00, 42.44it/s]\n"
     ]
    },
    {
     "name": "stdout",
     "output_type": "stream",
     "text": [
      "[47.96450866]\n",
      "47.96450866409569\n"
     ]
    }
   ],
   "source": [
    "models = fit_and_evaluate('th.csv')\n",
    "print(models['RMSE'].nsmallest(1).values)\n",
    "print(models['RMSE'].iloc[0])"
   ],
   "metadata": {
    "collapsed": false,
    "pycharm": {
     "name": "#%%\n"
    }
   }
  },
  {
   "cell_type": "code",
   "execution_count": 18,
   "outputs": [
    {
     "data": {
      "text/plain": "38"
     },
     "execution_count": 18,
     "metadata": {},
     "output_type": "execute_result"
    }
   ],
   "source": [],
   "metadata": {
    "collapsed": false,
    "pycharm": {
     "name": "#%%\n"
    }
   }
  },
  {
   "cell_type": "markdown",
   "source": [
    "## Evaluate all chemistry"
   ],
   "metadata": {
    "collapsed": false,
    "pycharm": {
     "name": "#%% md\n"
    }
   }
  },
  {
   "cell_type": "code",
   "execution_count": 33,
   "outputs": [
    {
     "name": "stdout",
     "output_type": "stream",
     "text": [
      "Counter({'PoissonRegressor': 46, 'ExtraTreesRegressor': 8, 'LinearRegression': 7, 'SGDRegressor': 6, 'RANSACRegressor': 4, 'PassiveAggressiveRegressor': 4, 'HuberRegressor': 4, 'BaggingRegressor': 3, 'ExtraTreeRegressor': 3, 'KNeighborsRegressor': 3, 'LarsCV': 3, 'AdaBoostRegressor': 2, 'TweedieRegressor': 2, 'Ridge': 2, 'ElasticNetCV': 2, 'LassoLars': 1, 'GradientBoostingRegressor': 1, 'GammaRegressor': 1, 'OrthogonalMatchingPursuitCV': 1, 'LassoLarsCV': 1, 'LassoCV': 1, 'NuSVR': 1, 'Lasso': 1})\n",
      "Min RMSE = 20.264520901512906\n",
      "Avg RMSE = 42.05560421836747\n",
      "Max RMSE = 86.17430746736524\n"
     ]
    }
   ],
   "source": [
    "# TH\n",
    "models,best_rmse=evaluate_models('th.csv',100)\n",
    "print(models)\n",
    "print(f'Min RMSE = {min(best_rmse)}')\n",
    "print(f'Avg RMSE = {sum(best_rmse) / len(best_rmse)}')\n",
    "print(f'Max RMSE = {max(best_rmse)}')"
   ],
   "metadata": {
    "collapsed": false,
    "pycharm": {
     "name": "#%%\n"
    }
   }
  },
  {
   "cell_type": "code",
   "execution_count": 13,
   "outputs": [
    {
     "name": "stdout",
     "output_type": "stream",
     "text": [
      "Counter({'KNeighborsRegressor': 22, 'PoissonRegressor': 12, 'DecisionTreeRegressor': 8, 'ExtraTreeRegressor': 8, 'BaggingRegressor': 6, 'AdaBoostRegressor': 6, 'ExtraTreesRegressor': 5, 'RandomForestRegressor': 4, 'XGBRegressor': 4, 'GammaRegressor': 4, 'GradientBoostingRegressor': 4, 'RANSACRegressor': 3, 'PassiveAggressiveRegressor': 2, 'Lars': 2, 'OrthogonalMatchingPursuit': 2, 'GeneralizedLinearRegressor': 1, 'ElasticNet': 1, 'Ridge': 1, 'OrthogonalMatchingPursuitCV': 1, 'BayesianRidge': 1, 'TransformedTargetRegressor': 1, 'HuberRegressor': 1, 'LinearRegression': 1})\n",
      "Min RMSE = 0.2820747805426459\n",
      "Avg RMSE = 2.2460928962207447\n",
      "Max RMSE = 6.008866905370149\n"
     ]
    }
   ],
   "source": [
    "# TC\n",
    "models,best_rmse=evaluate_models('tc.csv',100)\n",
    "print(models)\n",
    "print(f'Min RMSE = {min(best_rmse)}')\n",
    "print(f'Avg RMSE = {sum(best_rmse) / len(best_rmse)}')\n",
    "print(f'Max RMSE = {max(best_rmse)}')"
   ],
   "metadata": {
    "collapsed": false,
    "pycharm": {
     "name": "#%%\n"
    }
   }
  },
  {
   "cell_type": "code",
   "execution_count": 28,
   "outputs": [
    {
     "name": "stdout",
     "output_type": "stream",
     "text": [
      "Counter({'TweedieRegressor': 4, 'LassoLarsIC': 2, 'SVR': 1, 'LGBMRegressor': 1, 'OrthogonalMatchingPursuitCV': 1, 'BaggingRegressor': 1, 'RANSACRegressor': 1, 'AdaBoostRegressor': 1})\n",
      "Min RMSE = 0.17393922191998948\n",
      "Avg RMSE = 0.30697757294246913\n",
      "Max RMSE = 0.44961320799955906\n"
     ]
    }
   ],
   "source": [
    "# PH\n",
    "models,best_rmse=evaluate_models('ph.csv',100)\n",
    "print(models)\n",
    "print(f'Min RMSE = {min(best_rmse)}')\n",
    "print(f'Avg RMSE = {sum(best_rmse) / len(best_rmse)}')\n",
    "print(f'Max RMSE = {max(best_rmse)}')\n"
   ],
   "metadata": {
    "collapsed": false,
    "pycharm": {
     "name": "#%%\n"
    }
   }
  },
  {
   "cell_type": "code",
   "execution_count": 34,
   "outputs": [
    {
     "data": {
      "text/plain": "107"
     },
     "execution_count": 34,
     "metadata": {},
     "output_type": "execute_result"
    }
   ],
   "source": [
    "sum(models.values())"
   ],
   "metadata": {
    "collapsed": false,
    "pycharm": {
     "name": "#%%\n"
    }
   }
  },
  {
   "cell_type": "code",
   "execution_count": null,
   "outputs": [],
   "source": [],
   "metadata": {
    "collapsed": false,
    "pycharm": {
     "name": "#%%\n"
    }
   }
  }
 ],
 "metadata": {
  "kernelspec": {
   "display_name": "Python 3",
   "language": "python",
   "name": "python3"
  },
  "language_info": {
   "codemirror_mode": {
    "name": "ipython",
    "version": 2
   },
   "file_extension": ".py",
   "mimetype": "text/x-python",
   "name": "python",
   "nbconvert_exporter": "python",
   "pygments_lexer": "ipython2",
   "version": "2.7.6"
  }
 },
 "nbformat": 4,
 "nbformat_minor": 0
}