{
 "cells": [
  {
   "cell_type": "code",
   "execution_count": 2,
   "metadata": {
    "collapsed": true
   },
   "outputs": [],
   "source": [
    "import importlib"
   ]
  },
  {
   "cell_type": "code",
   "execution_count": 3,
   "outputs": [
    {
     "name": "stdout",
     "output_type": "stream",
     "text": [
      "/Users/lorneluo/lorne/poolhub/apps/testing/image_process/output/model_final.pth\n",
      "[0.86700875]\n",
      "[[1957.4355   381.22205 2114.2285  1785.2328 ]]\n"
     ]
    }
   ],
   "source": [
    "from apps.testing.image_process import strip_recognition\n",
    "importlib.reload(strip_recognition)\n",
    "\n",
    "s='/Users/lorneluo/lorne/poolhub/dataset/val/IMG_7490.jpg'\n",
    "scores,boxes=strip_recognition.inference(s)\n",
    "print(scores)\n",
    "print(boxes)"
   ],
   "metadata": {
    "collapsed": false,
    "pycharm": {
     "name": "#%%\n"
    }
   }
  },
  {
   "cell_type": "code",
   "execution_count": 4,
   "outputs": [
    {
     "ename": "ImportError",
     "evalue": "cannot import name 'verify_inference' from 'apps.testing.image_process.strip_recognition' (/Users/lorneluo/lorne/poolhub/apps/testing/image_process/strip_recognition.py)",
     "output_type": "error",
     "traceback": [
      "\u001B[0;31m---------------------------------------------------------------------------\u001B[0m",
      "\u001B[0;31mImportError\u001B[0m                               Traceback (most recent call last)",
      "\u001B[0;32m<ipython-input-4-710963cc9c2a>\u001B[0m in \u001B[0;36m<module>\u001B[0;34m\u001B[0m\n\u001B[0;32m----> 1\u001B[0;31m \u001B[0;32mfrom\u001B[0m \u001B[0mapps\u001B[0m\u001B[0;34m.\u001B[0m\u001B[0mtesting\u001B[0m\u001B[0;34m.\u001B[0m\u001B[0mimage_process\u001B[0m\u001B[0;34m.\u001B[0m\u001B[0mstrip_recognition\u001B[0m \u001B[0;32mimport\u001B[0m \u001B[0mverify_inference\u001B[0m\u001B[0;34m\u001B[0m\u001B[0;34m\u001B[0m\u001B[0m\n\u001B[0m\u001B[1;32m      2\u001B[0m \u001B[0;34m\u001B[0m\u001B[0m\n\u001B[1;32m      3\u001B[0m \u001B[0mverify_inference\u001B[0m\u001B[0;34m(\u001B[0m\u001B[0;34m)\u001B[0m\u001B[0;34m\u001B[0m\u001B[0;34m\u001B[0m\u001B[0m\n",
      "\u001B[0;31mImportError\u001B[0m: cannot import name 'verify_inference' from 'apps.testing.image_process.strip_recognition' (/Users/lorneluo/lorne/poolhub/apps/testing/image_process/strip_recognition.py)"
     ]
    }
   ],
   "source": [
    "from apps.testing.image_process.strip_recognition import verify_inference\n",
    "\n",
    "verify_inference()"
   ],
   "metadata": {
    "collapsed": false,
    "pycharm": {
     "name": "#%%\n"
    }
   }
  },
  {
   "cell_type": "code",
   "execution_count": null,
   "outputs": [],
   "source": [],
   "metadata": {
    "collapsed": false,
    "pycharm": {
     "name": "#%%\n"
    }
   }
  }
 ],
 "metadata": {
  "kernelspec": {
   "display_name": "Python 3",
   "language": "python",
   "name": "python3"
  },
  "language_info": {
   "codemirror_mode": {
    "name": "ipython",
    "version": 2
   },
   "file_extension": ".py",
   "mimetype": "text/x-python",
   "name": "python",
   "nbconvert_exporter": "python",
   "pygments_lexer": "ipython2",
   "version": "2.7.6"
  }
 },
 "nbformat": 4,
 "nbformat_minor": 0
}