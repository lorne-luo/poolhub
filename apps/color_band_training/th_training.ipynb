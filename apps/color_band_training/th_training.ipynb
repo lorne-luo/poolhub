{
 "cells": [
  {
   "cell_type": "code",
   "execution_count": 134,
   "metadata": {
    "collapsed": true
   },
   "outputs": [],
   "source": [
    "%%capture\n",
    "%matplotlib inline\n",
    "import os\n",
    "import sys\n",
    "import importlib\n",
    "import matplotlib.pyplot as plt\n",
    "from io import BytesIO\n",
    "import tensorflow as tf\n",
    "import numpy as np\n",
    "import pandas as pd\n",
    "from matplotlib.pyplot import imshow\n",
    "import requests\n",
    "from PIL import Image, ImageEnhance\n",
    "from csv import reader\n",
    "from tqdm.notebook import tqdm\n",
    "import keras\n",
    "\n",
    "# first neural network with keras tutorial\n",
    "from keras.layers import Dropout\n",
    "from sklearn.model_selection import KFold\n",
    "from sklearn.model_selection import train_test_split\n",
    "from numpy import loadtxt\n",
    "from sklearn.metrics import accuracy_score\n",
    "from keras.models import Sequential\n",
    "from keras.layers import Dense\n",
    "from keras.wrappers.scikit_learn import KerasRegressor\n",
    "from sklearn.model_selection import cross_val_score\n",
    "from sklearn.model_selection import KFold\n",
    "from sklearn.preprocessing import StandardScaler\n",
    "from sklearn.pipeline import Pipeline\n",
    "\n",
    "tqdm().pandas()\n",
    "\n",
    "base_folder='/Users/lorneluo/lorne/poolhub/'\n",
    "\n",
    "csv_path=os.path.join(base_folder,'apps','color_band_training','th.csv')"
   ]
  },
  {
   "cell_type": "code",
   "execution_count": 123,
   "outputs": [
    {
     "name": "stdout",
     "output_type": "stream",
     "text": [
      "[0.3019608 0.3529412 0.5882353]\n",
      "[ 49.  55.  68.  70. 131. 134. 134. 144. 148. 152. 157. 161. 162. 163.\n",
      " 163. 166. 168. 171. 183. 206. 208. 210. 211. 211. 217. 222. 253. 259.\n",
      " 308. 472. 620.]\n"
     ]
    }
   ],
   "source": [
    "df=pd.read_csv(csv_path, dtype={'file_path': str,\n",
    "                                      'white_balance_y': int,\n",
    "                                      'white_balance_x': int,\n",
    "                                      'color_y': int,\n",
    "                                      'color_x': int,\n",
    "                                      'value_color_r': np.float32,\n",
    "                                      'value_color_g': np.float32,\n",
    "                                      'value_color_b': np.float32,\n",
    "                                      'actual_value': np.float32})\n",
    "df.head()\n",
    "\n",
    "dataset = df.values\n",
    "# split into input (X) and output (Y) variables\n",
    "X = dataset[:,6:9]/255\n",
    "Y = dataset[:,5]\n",
    "X = np.asarray(X).astype(np.float32)\n",
    "Y = np.asarray(Y).astype(np.float32)\n",
    "print(X[0])\n",
    "print(Y)"
   ],
   "metadata": {
    "collapsed": false,
    "pycharm": {
     "name": "#%%\n"
    }
   }
  },
  {
   "cell_type": "code",
   "execution_count": 124,
   "outputs": [
    {
     "name": "stdout",
     "output_type": "stream",
     "text": [
      "[0.21176471 0.14509805 0.29411766]\n",
      "[222. 163. 148. 211. 210. 134. 157. 168. 162. 183. 217. 211.  68. 131.\n",
      " 259. 161. 253. 620. 134. 472.  49. 163. 166. 206. 208.  55. 308.]\n",
      "[[0.36078432 0.2901961  0.41568628]\n",
      " [0.08627451 0.16470589 0.3647059 ]\n",
      " [0.27058825 0.23137255 0.39215687]\n",
      " [0.49803922 0.36862746 0.54509807]]\n",
      "[152.  70. 144. 171.]\n"
     ]
    }
   ],
   "source": [
    "test_size = 0.1\n",
    "\n",
    "X_train, X_test, Y_train, Y_test = train_test_split(X, Y, test_size = test_size)\n",
    "\n",
    "print(X_train[0])\n",
    "print(Y_train)\n",
    "\n",
    "print(X_test)\n",
    "print(Y_test)"
   ],
   "metadata": {
    "collapsed": false,
    "pycharm": {
     "name": "#%%\n"
    }
   }
  },
  {
   "cell_type": "code",
   "execution_count": 126,
   "outputs": [
    {
     "name": "stdout",
     "output_type": "stream",
     "text": [
      "[ -36.95346069  -17.74884796  -24.11746407  -59.35799026  -42.94664001\n",
      "  -44.33726883  -79.12793732  -57.81951904 -122.66366577 -349.28390503]\n",
      "Baseline: -83.44 (93.08) MSE\n"
     ]
    }
   ],
   "source": [
    "# define base model\n",
    "import keras\n",
    "optimizer = keras.optimizers.Adam(learning_rate=0.001)\n",
    "loss_function = tf.keras.losses.CategoricalCrossentropy(from_logits=True)\n",
    "\n",
    "def baseline_model():\n",
    "\t# create model\n",
    "\tmodel = Sequential()\n",
    "\tmodel.add(Dense(3, input_dim=3, kernel_initializer='normal', activation='relu'))\n",
    "\tmodel.add(Dense(1, kernel_initializer='normal'))\n",
    "\t# Compile model\n",
    "\tmodel.compile(loss='mean_absolute_error', optimizer=optimizer, metrics=['accuracy'])\n",
    "    # model.compile(loss=loss_function,optimizer=optimizer, metrics=['accuracy'])\n",
    "\treturn model\n",
    "\n",
    "# evaluate model\n",
    "estimator = KerasRegressor(build_fn=baseline_model, epochs=5000, batch_size=2048, verbose=0)\n",
    "kfold = KFold(n_splits=10)\n",
    "results = cross_val_score(estimator, X, Y, cv=kfold)\n",
    "print(results)\n",
    "print(\"Baseline: %.2f (%.2f) MSE\" % (results.mean(), results.std()))"
   ],
   "metadata": {
    "collapsed": false,
    "pycharm": {
     "name": "#%%\n"
    }
   }
  },
  {
   "cell_type": "code",
   "execution_count": 128,
   "outputs": [
    {
     "name": "stdout",
     "output_type": "stream",
     "text": [
      "[[0.36078432 0.2901961  0.41568628]\n",
      " [0.08627451 0.16470589 0.3647059 ]\n",
      " [0.27058825 0.23137255 0.39215687]\n",
      " [0.49803922 0.36862746 0.54509807]]\n",
      "[152.  70. 144. 171.]\n",
      "[130.93839 103.73477 120.53561 151.7461 ]\n"
     ]
    }
   ],
   "source": [
    "estimator.fit(X_train, Y_train )\n",
    "prediction = estimator.predict(X_test)\n",
    "# accuracy_score(Y_test, prediction)\n",
    "print(X_test)\n",
    "print(Y_test)\n",
    "print([round(i,1) for i in prediction])"
   ],
   "metadata": {
    "collapsed": false,
    "pycharm": {
     "name": "#%%\n"
    }
   }
  },
  {
   "cell_type": "code",
   "execution_count": 131,
   "outputs": [
    {
     "name": "stdout",
     "output_type": "stream",
     "text": [
      "[[0.36078432 0.2901961  0.41568628]\n",
      " [0.08627451 0.16470589 0.3647059 ]\n",
      " [0.27058825 0.23137255 0.39215687]\n",
      " [0.49803922 0.36862746 0.54509807]]\n",
      "[152.  70. 144. 171.]\n",
      "[130, 103, 120, 151]\n"
     ]
    }
   ],
   "source": [
    "print(X_test)\n",
    "print(Y_test)\n",
    "print([int(i) for i in prediction])"
   ],
   "metadata": {
    "collapsed": false,
    "pycharm": {
     "name": "#%%\n"
    }
   }
  },
  {
   "cell_type": "code",
   "execution_count": 132,
   "outputs": [
    {
     "data": {
      "text/plain": "(0.5165553995318166, 0.9666811572391372, 0.669255285146286)"
     },
     "execution_count": 132,
     "metadata": {},
     "output_type": "execute_result"
    }
   ],
   "source": [
    "import random\n",
    "def generate_random_rgb():\n",
    "    #Returns a tuple of three RGB values on range [0,1]\n",
    "    #This is done because  matplotlib.patches take rgb values in range [0,1] -> eg: color=(0,0.5,1)\n",
    "    #The uniform() method returns a random floating number between the two specified numbers (both included).\n",
    "    return (random.uniform(0,1), random.uniform(0,1), random.uniform(0,1))\n",
    "\n",
    "generate_random_rgb()"
   ],
   "metadata": {
    "collapsed": false,
    "pycharm": {
     "name": "#%%\n"
    }
   }
  },
  {
   "cell_type": "code",
   "execution_count": 138,
   "outputs": [
    {
     "ename": "UnidentifiedImageError",
     "evalue": "cannot identify image file '/Users/lorneluo/lorne/poolhub/apps/color_band_training/th_training.ipynb'",
     "output_type": "error",
     "traceback": [
      "\u001B[0;31m---------------------------------------------------------------------------\u001B[0m",
      "\u001B[0;31mUnidentifiedImageError\u001B[0m                    Traceback (most recent call last)",
      "\u001B[0;32m<ipython-input-138-67572da1e837>\u001B[0m in \u001B[0;36m<module>\u001B[0;34m\u001B[0m\n\u001B[0;32m----> 1\u001B[0;31m \u001B[0mimage\u001B[0m \u001B[0;34m=\u001B[0m \u001B[0mImage\u001B[0m\u001B[0;34m.\u001B[0m\u001B[0mopen\u001B[0m\u001B[0;34m(\u001B[0m\u001B[0;34m'/Users/lorneluo/lorne/poolhub/apps/color_band_training/th_training.ipynb'\u001B[0m\u001B[0;34m)\u001B[0m\u001B[0;34m\u001B[0m\u001B[0;34m\u001B[0m\u001B[0m\n\u001B[0m\u001B[1;32m      2\u001B[0m \u001B[0;34m\u001B[0m\u001B[0m\n\u001B[1;32m      3\u001B[0m \u001B[0;34m\u001B[0m\u001B[0m\n\u001B[1;32m      4\u001B[0m \u001B[0;34m\u001B[0m\u001B[0m\n",
      "\u001B[0;32m~/lorne/poolhub/venv/lib/python3.7/site-packages/PIL/Image.py\u001B[0m in \u001B[0;36mopen\u001B[0;34m(fp, mode, formats)\u001B[0m\n\u001B[1;32m   2957\u001B[0m         \u001B[0mwarnings\u001B[0m\u001B[0;34m.\u001B[0m\u001B[0mwarn\u001B[0m\u001B[0;34m(\u001B[0m\u001B[0mmessage\u001B[0m\u001B[0;34m)\u001B[0m\u001B[0;34m\u001B[0m\u001B[0;34m\u001B[0m\u001B[0m\n\u001B[1;32m   2958\u001B[0m     raise UnidentifiedImageError(\n\u001B[0;32m-> 2959\u001B[0;31m         \u001B[0;34m\"cannot identify image file %r\"\u001B[0m \u001B[0;34m%\u001B[0m \u001B[0;34m(\u001B[0m\u001B[0mfilename\u001B[0m \u001B[0;32mif\u001B[0m \u001B[0mfilename\u001B[0m \u001B[0;32melse\u001B[0m \u001B[0mfp\u001B[0m\u001B[0;34m)\u001B[0m\u001B[0;34m\u001B[0m\u001B[0;34m\u001B[0m\u001B[0m\n\u001B[0m\u001B[1;32m   2960\u001B[0m     )\n\u001B[1;32m   2961\u001B[0m \u001B[0;34m\u001B[0m\u001B[0m\n",
      "\u001B[0;31mUnidentifiedImageError\u001B[0m: cannot identify image file '/Users/lorneluo/lorne/poolhub/apps/color_band_training/th_training.ipynb'"
     ]
    }
   ],
   "source": [
    "image = Image.open('/Users/lorneluo/lorne/poolhub/apps/color_band_training/th_training.ipynb')\n",
    "\n",
    "\n"
   ],
   "metadata": {
    "collapsed": false,
    "pycharm": {
     "name": "#%%\n"
    }
   }
  }
 ],
 "metadata": {
  "kernelspec": {
   "display_name": "Python 3",
   "language": "python",
   "name": "python3"
  },
  "language_info": {
   "codemirror_mode": {
    "name": "ipython",
    "version": 2
   },
   "file_extension": ".py",
   "mimetype": "text/x-python",
   "name": "python",
   "nbconvert_exporter": "python",
   "pygments_lexer": "ipython2",
   "version": "2.7.6"
  }
 },
 "nbformat": 4,
 "nbformat_minor": 0
}